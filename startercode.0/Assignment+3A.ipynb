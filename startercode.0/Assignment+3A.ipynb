{
    "cells": [
        {
            "cell_type": "markdown",
            "metadata": {
                "deletable": false,
                "editable": false,
                "nbgrader": {
                    "grade": false,
                    "locked": true,
                    "solution": false
                }
            },
            "source": [
                "## Module 3A: Assignment\n",
                "\n",
                "### Weightage: 30 Marks\n",
                "\n",
                "### Assessment task: \n",
                "\n",
                "You work for an AI image company and one of the departments focuses on research into the accurate and timely diagnosis of heart disease, fertility and breast cancer among residents living in Compassvale City. Their research also looks into the risk factors prevalent in this community as whole. Through a state-funded programme, they collect a huge among of anonymous and de-identified data on its residents. However, they face the challenge of making sense of this data. As an upcoming expert in Machine Learning, your assignment is to help the department to make sense of the data and deliver the following solutions.\n",
                "\n",
                "#### Parts\n",
                "\n",
                "1. Programming Part 1: Read the file containing the big heart dataset and display the output of these files\n",
                "\n",
                "2. Programming Part 2: Write a programme that specifies the line of best fit for the fertility rate for workers.\n",
                "\n",
                "3. Programming Part 3: Write a programme that can classify based on radius SE and texture SE of a breast mass and determine whether the diagnosis is mailgnant or benign.\n",
                "\n",
                "4. Programming Part 4: Write a programme that potentially improves the linear regression using regularisation.\n",
                "\n",
                "5. Programming Part 5: Write a programme that can classify two different types of data points with very high accuracy.\n",
                "\n",
                "### Instructions:\n",
                "\n",
                "1. Complete all three parts of the assignments by write the Python codes.\n",
                "2. Run your codes to ensure that the required outputs are delivered.\n",
                "3. Submit the assignment for grading and to get feedback.\n",
                "\n"
            ]
        },
        {
            "cell_type": "markdown",
            "metadata": {
                "deletable": false,
                "editable": false,
                "nbgrader": {
                    "grade": false,
                    "locked": true,
                    "solution": false
                }
            },
            "source": [
                "### Programming Part 1: Read the file containing the big heart dataset and display the output of these files\n",
                "\n",
                "\n",
                "\n",
                "### Assessment task:\n",
                "\n",
                "Write a programme that reads the file containing the big heart dataset and display the output of these files. There are 6 steps involved, you will complete the code for step 2 and 4 only.\n",
                "\n",
                "### Marks:\n",
                "This part is of 6 Marks. \n",
                "\n",
                "### Instructions:\n",
                "\n",
                "1. Write your Python code in place of \"your code here\" placeholder below.\n",
                "2. Run your code by clicking on 'run' cell in the toolbar before you submit.\n",
                "3. You will get the feedback once you submit the assignment.\n",
                "\n",
                "### Submission:\n",
                "\n",
                "Click on the submit button on the top right after you run the code."
            ]
        },
        {
            "cell_type": "markdown",
            "metadata": {
                "deletable": false,
                "editable": false,
                "nbgrader": {
                    "grade": false,
                    "locked": true,
                    "solution": false
                }
            },
            "source": [
                "#### Step 1\n",
                "Import the libraries."
            ]
        },
        {
            "cell_type": "code",
            "execution_count": null,
            "metadata": {
                "collapsed": true
            },
            "outputs": [],
            "source": [
                "from random import seed\n",
                "from random import randrange\n",
                "from csv import reader\n",
                "\n",
                "from tabulate import tabulate"
            ]
        },
        {
            "cell_type": "markdown",
            "metadata": {},
            "source": [
                "#### Step 2\n",
                "\n",
                "Load the big heart CSV file"
            ]
        },
        {
            "cell_type": "code",
            "execution_count": null,
            "metadata": {
                "collapsed": true
            },
            "outputs": [],
            "source": [
                "def load_csv(filename, skip = False):\n",
                "###\n",
                "### YOUR CODE HERE\n",
                "###\n",
                "\n",
                "    dataset = list()\n",
                "    \n",
                "    with open(filename, 'r') as file:\n",
                "        csv_reader = reader(file)\n",
                "        \n",
                "        if skip:\n",
                "            next(csv_reader, None)\n",
                "        \n",
                "        for row in csv_reader:\n",
                "            if not row:\n",
                "                continue\n",
                "            dataset.append(row)\n",
                "            \n",
                "    return dataset\n",
                "\n"
            ]
        },
        {
            "cell_type": "markdown",
            "metadata": {},
            "source": [
                "#### Step 3\n",
                "\n",
                "Print the file's content\n",
                "\n",
                "_Note: This function can be called for other parts in the assignment_"
            ]
        },
        {
            "cell_type": "code",
            "execution_count": null,
            "metadata": {
                "collapsed": true
            },
            "outputs": [],
            "source": [
                "def print_the_dataset(dataset, contents = True, length = True):\n",
                "    if(contents):\n",
                "        print(tabulate(dataset))\n",
                "        \n",
                "    if(length):\n",
                "        print(len(dataset))\n"
            ]
        },
        {
            "cell_type": "markdown",
            "metadata": {},
            "source": [
                "#### Step 4\n",
                "\n",
                "Split the big heart dataset into training and test data"
            ]
        },
        {
            "cell_type": "code",
            "execution_count": null,
            "metadata": {
                "collapsed": true
            },
            "outputs": [],
            "source": [
                "def train_test_split(dataset, split):\n",
                "\n",
                "\n",
                "    # Create an empty list for the training set\n",
                "    training = list()\n",
                "    \n",
                "    # Define the size of the training set\n",
                "    train_size = split * len(dataset)\n",
                "    \n",
                "    # Copy the original dataset to \n",
                "    test = list(dataset)\n",
                "    \n",
                "    #Loops only to the size of the training set\n",
                "    while len(training) < train_size:\n",
                "        index = randrange(len(test))\n",
                "        \n",
                "        # Populate the training set, by moving the data points from the\n",
                "        # dataset/test set to the training set\n",
                "        training.append(test.pop(index))\n",
                "        \n",
                "    # Return both the training set and test set \n",
                "    return training, test\n"
            ]
        },
        {
            "cell_type": "markdown",
            "metadata": {},
            "source": [
                "#### Step 5\n",
                "\n",
                "Seed the random value"
            ]
        },
        {
            "cell_type": "code",
            "execution_count": null,
            "metadata": {
                "collapsed": true
            },
            "outputs": [],
            "source": [
                "seed(1)"
            ]
        },
        {
            "cell_type": "markdown",
            "metadata": {},
            "source": [
                "#### Step 6\n",
                "\n",
                "Load and prepare data"
            ]
        },
        {
            "cell_type": "code",
            "execution_count": null,
            "metadata": {
                "collapsed": true
            },
            "outputs": [],
            "source": [
                "filename = 'big_heart.csv'\n",
                "\n",
                "dataset = load_csv(filename, skip = True)\n",
                "print_the_dataset(dataset)\n",
                "training, test = train_test_split(dataset, 0.8)"
            ]
        },
        {
            "cell_type": "code",
            "execution_count": null,
            "metadata": {
                "collapsed": true
            },
            "outputs": [],
            "source": [
                "print(len(training))"
            ]
        },
        {
            "cell_type": "code",
            "execution_count": null,
            "metadata": {
                "collapsed": true
            },
            "outputs": [],
            "source": [
                "print(len(test))"
            ]
        },
        {
            "cell_type": "code",
            "execution_count": null,
            "metadata": {
                "collapsed": true,
                "deletable": false,
                "editable": false,
                "nbgrader": {
                    "grade": true,
                    "grade_id": "Part 1.1",
                    "locked": true,
                    "points": "3",
                    "solution": false
                }
            },
            "outputs": [],
            "source": [
                "###\n",
                "### AUTOGRADER TEST - DO NOT REMOVE\n",
                "###\n"
            ]
        },
        {
            "cell_type": "code",
            "execution_count": null,
            "metadata": {
                "collapsed": true,
                "deletable": false,
                "editable": false,
                "nbgrader": {
                    "grade": true,
                    "grade_id": "Part 1.2",
                    "locked": true,
                    "points": "3",
                    "solution": false
                }
            },
            "outputs": [],
            "source": [
                "###\n",
                "### AUTOGRADER TEST - DO NOT REMOVE\n",
                "###\n"
            ]
        },
        {
            "cell_type": "markdown",
            "metadata": {
                "deletable": false,
                "editable": false,
                "nbgrader": {
                    "grade": false,
                    "locked": true,
                    "solution": false
                }
            },
            "source": [
                "## Programming Part 2: Linear Regression\n",
                "\n",
                "Write a programme that specifies the line of best fit for the fertility rate for workers.\n",
                "\n",
                "\n",
                "### Assessment task:\n",
                "\n",
                "Write code to analyse the relationships between the variables in a dataset between the percentage of female workers and the fertility rate of women. There are 13 steps involved, you will complete the code for steps 2, 3, 4, 5, 6, 7 and 9 only.\n",
                "\n",
                "### Marks:\n",
                "\n",
                "This part is of 6 Marks. \n",
                "\n",
                "### Instructions:\n",
                "\n",
                "1. Write your Python code in place of \"your code here\" placeholder below.\n",
                "2. Run your code by clicking on 'run' cell in the toolbar before you submit.\n",
                "3. You will get the feedback once you submit the assignment.\n",
                "\n",
                "### Submission:\n",
                "\n",
                "Click on the submit button on the top right after you run the code."
            ]
        },
        {
            "cell_type": "markdown",
            "metadata": {
                "deletable": false,
                "editable": false,
                "nbgrader": {
                    "grade": false,
                    "locked": true,
                    "solution": false
                }
            },
            "source": [
                "#### Step 1\n",
                "\n",
                "Import the needed libraries."
            ]
        },
        {
            "cell_type": "code",
            "execution_count": null,
            "metadata": {
                "collapsed": true
            },
            "outputs": [],
            "source": [
                "from math import sqrt\n",
                "from matplotlib import pyplot as plot\n",
                "from random import seed\n",
                "from random import randrange\n",
                "from csv import reader"
            ]
        },
        {
            "cell_type": "markdown",
            "metadata": {
                "deletable": false,
                "editable": false,
                "nbgrader": {
                    "grade": false,
                    "locked": true,
                    "solution": false
                }
            },
            "source": [
                "#### Step 2\n",
                "\n",
                "Load a CSV file"
            ]
        },
        {
            "cell_type": "code",
            "execution_count": null,
            "metadata": {
                "collapsed": true
            },
            "outputs": [],
            "source": [
                "def load_csv(filename, skip = False):\n",
                "\n",
                "    dataset = list()\n",
                "    \n",
                "    # Opens the file in read only mode\n",
                "    with open(filename, 'r') as file:\n",
                "        csv_reader = reader(file)\n",
                "        \n",
                "        # Skip the header, if needed\n",
                "        if skip:\n",
                "            next(csv_reader, None)\n",
                "        \n",
                "        for row in csv_reader:\n",
                "            if not row:\n",
                "                continue\n",
                "            dataset.append(row)\n",
                "    \n",
                "    return dataset\n"
            ]
        },
        {
            "cell_type": "markdown",
            "metadata": {
                "deletable": false,
                "editable": false,
                "nbgrader": {
                    "grade": false,
                    "locked": true,
                    "solution": false
                }
            },
            "source": [
                "#### Step 3\n",
                "\n",
                "Convert string column to float"
            ]
        },
        {
            "cell_type": "code",
            "execution_count": null,
            "metadata": {
                "collapsed": true
            },
            "outputs": [],
            "source": [
                "def string_column_to_float(dataset, column):\n",
                " \n",
                "    for row in dataset:\n",
                "        # The strip() function remove white space\n",
                "        # then convert the data into a decimal number (float)\n",
                "        # and overwrite the original data\n",
                "        \n",
                "        row[column] = float(row[column].strip())\n"
            ]
        },
        {
            "cell_type": "markdown",
            "metadata": {
                "deletable": false,
                "editable": false,
                "nbgrader": {
                    "grade": false,
                    "locked": true,
                    "solution": false
                }
            },
            "source": [
                "#### Step 4\n",
                "\n",
                "Calculate the mean value of a list of numbers"
            ]
        },
        {
            "cell_type": "code",
            "execution_count": null,
            "metadata": {
                "collapsed": true
            },
            "outputs": [],
            "source": [
                "def mean(values):\n",
                " \n",
                "    # Sum all the values and then divide number of values\n",
                "    return sum(values) / float(len(values))\n"
            ]
        },
        {
            "cell_type": "markdown",
            "metadata": {},
            "source": [
                "#### Step 5\n",
                "\n",
                "Calculate least squares between x and y"
            ]
        },
        {
            "cell_type": "code",
            "execution_count": null,
            "metadata": {
                "collapsed": true
            },
            "outputs": [],
            "source": [
                "def leastSquares(dataset):\n",
                "    # Initialize lists to store x and y values\n",
                "    x_values = []\n",
                "    y_values = []\n",
                "    \n",
                "    # Populate x_values and y_values from the dataset\n",
                "    for row in dataset:\n",
                "        x_values.append(row[0])\n",
                "        y_values.append(row[1])\n",
                "\n",
                "    # Calculate the mean of x and y\n",
                "    x_mean = mean(x_values)\n",
                "    y_mean = mean(y_values)\n",
                "\n",
                "    # Initialize variables to hold the numerators and denominators for b1\n",
                "    numerator = 0.0\n",
                "    denominator = 0.0\n",
                "\n",
                "    # Calculate the values for the numerator and denominator\n",
                "    for i in range(len(x_values)):\n",
                "        numerator += (x_values[i] - x_mean) * (y_values[i] - y_mean)\n",
                "        denominator += (x_values[i] - x_mean)**2\n",
                "\n",
                "    # Calculate b1\n",
                "    b1 = numerator / denominator\n",
                "\n",
                "    # Calculate b0\n",
                "    b0 = y_mean - b1 * x_mean\n",
                "\n",
                "    return [b0, b1]\n"
            ]
        },
        {
            "cell_type": "markdown",
            "metadata": {},
            "source": [
                "#### Step 6\n",
                "\n",
                "Calculate root mean squared error"
            ]
        },
        {
            "cell_type": "code",
            "execution_count": null,
            "metadata": {
                "collapsed": true
            },
            "outputs": [],
            "source": [
                "def root_mean_square_error(actual, predicted): \n",
                "    \n",
                "    sum_error = sum((predicted[i] - actual[i])**2 for i in range(len(actual)))\n",
                "    mean_error = sum_error / float(len(actual))\n",
                "    return sqrt(mean_error)\n"
            ]
        },
        {
            "cell_type": "markdown",
            "metadata": {},
            "source": [
                "#### Step 7\n",
                "\n",
                "Make Predictions"
            ]
        },
        {
            "cell_type": "code",
            "execution_count": null,
            "metadata": {
                "collapsed": true
            },
            "outputs": [],
            "source": [
                "def simple_linear_regression(train, test):\n",
                "\n",
                "    predictions = list()\n",
                "    b0, b1 = leastSquares(train)\n",
                "    for row in test:\n",
                "        yhat = b0 + b1 * row[0]\n",
                "        predictions.append(yhat)\n",
                "    return predictions\n"
            ]
        },
        {
            "cell_type": "markdown",
            "metadata": {},
            "source": [
                "#### Step 8\n",
                "\n",
                "Split the data into training and test sets"
            ]
        },
        {
            "cell_type": "code",
            "execution_count": null,
            "metadata": {
                "collapsed": true
            },
            "outputs": [],
            "source": [
                "def train_test_split(dataset, split):\n",
                "    train = list()\n",
                "    train_size = split * len(dataset)\n",
                "    test = list(dataset)\n",
                "    \n",
                "    while len(train) < train_size:\n",
                "        index = randrange(len(test))\n",
                "        train.append(test.pop(index))\n",
                "        \n",
                "    return train, test"
            ]
        },
        {
            "cell_type": "markdown",
            "metadata": {},
            "source": [
                "#### Step 9\n",
                "\n",
                "Evaluate regression algorithm on training dataset"
            ]
        },
        {
            "cell_type": "code",
            "execution_count": null,
            "metadata": {
                "collapsed": true
            },
            "outputs": [],
            "source": [
                "def evaluate_simple_linear_regression(dataset, split=0):\n",
                "\n",
                "    train, test = train_test_split(dataset, split)\n",
                "    test_set = [row[:-1] for row in test]\n",
                "    predicted = simple_linear_regression(train, test_set)\n",
                "    actual = [row[-1] for row in test]\n",
                "    rmse = root_mean_square_error(actual, predicted)\n",
                "    return rmse\n"
            ]
        },
        {
            "cell_type": "markdown",
            "metadata": {},
            "source": [
                "#### Step 10\n",
                "\n",
                "Visualise the dataset"
            ]
        },
        {
            "cell_type": "code",
            "execution_count": null,
            "metadata": {
                "collapsed": true
            },
            "outputs": [],
            "source": [
                "def visualise_dataset(dataset):\n",
                "    test_set = list()\n",
                "    \n",
                "    for row in dataset:\n",
                "        row_copy = list(row)\n",
                "        row_copy[-1] = None\n",
                "        test_set.append(row_copy)\n",
                "    \n",
                "    sizes, prices = [], []\n",
                "    for i in range(len(dataset)):\n",
                "        sizes.append(dataset[i][0])\n",
                "        prices.append(dataset[i][1])\n",
                "        \n",
                "    plot.figure()\n",
                "    plot.plot(sizes, prices, 'x')\n",
                "    plot.plot(test_set, simple_linear_regression(dataset, test_set))\n",
                "    plot.xlabel('Size')\n",
                "    plot.ylabel('Price')\n",
                "    plot.grid()\n",
                "    plot.tight_layout()\n",
                "    plot.show()"
            ]
        },
        {
            "cell_type": "markdown",
            "metadata": {},
            "source": [
                "#### Step 11\n",
                "\n",
                "Seed the random value"
            ]
        },
        {
            "cell_type": "code",
            "execution_count": null,
            "metadata": {
                "collapsed": true
            },
            "outputs": [],
            "source": [
                "seed(1)"
            ]
        },
        {
            "cell_type": "markdown",
            "metadata": {},
            "source": [
                "#### Step 12\n",
                "\n",
                "Load and prepare data"
            ]
        },
        {
            "cell_type": "code",
            "execution_count": null,
            "metadata": {
                "collapsed": true
            },
            "outputs": [],
            "source": [
                "filename = 'fertility_rate-worker_percent.csv'\n",
                "dataset = load_csv(filename, skip=True)\n",
                "\n",
                "for i in range(len(dataset[0])):\n",
                "    string_column_to_float(dataset, i)"
            ]
        },
        {
            "cell_type": "markdown",
            "metadata": {},
            "source": [
                "#### Step 13\n",
                "\n",
                "Evaluate algorithm"
            ]
        },
        {
            "cell_type": "code",
            "execution_count": null,
            "metadata": {},
            "outputs": [],
            "source": [
                "split = 0.6\n",
                "rmse = evaluate_simple_linear_regression(dataset, split)\n",
                "\n",
                "print('Root Mean Square Error: %.3f' % rmse)\n",
                "visualise_dataset(dataset)"
            ]
        },
        {
            "cell_type": "code",
            "execution_count": null,
            "metadata": {
                "deletable": false,
                "editable": false,
                "nbgrader": {
                    "grade": true,
                    "grade_id": "Part 2.1",
                    "locked": true,
                    "points": "1",
                    "solution": false
                }
            },
            "outputs": [],
            "source": [
                "###\n",
                "### AUTOGRADER TEST - DO NOT REMOVE\n",
                "###\n"
            ]
        },
        {
            "cell_type": "code",
            "execution_count": null,
            "metadata": {
                "deletable": false,
                "editable": false,
                "nbgrader": {
                    "grade": true,
                    "grade_id": "Part 2.2",
                    "locked": true,
                    "points": "2",
                    "solution": false
                }
            },
            "outputs": [],
            "source": [
                "###\n",
                "### AUTOGRADER TEST - DO NOT REMOVE\n",
                "###\n"
            ]
        },
        {
            "cell_type": "code",
            "execution_count": null,
            "metadata": {
                "deletable": false,
                "editable": false,
                "nbgrader": {
                    "grade": true,
                    "grade_id": "Part 2.3",
                    "locked": true,
                    "points": "3",
                    "solution": false
                }
            },
            "outputs": [],
            "source": [
                "###\n",
                "### AUTOGRADER TEST - DO NOT REMOVE\n",
                "###\n"
            ]
        },
        {
            "cell_type": "markdown",
            "metadata": {},
            "source": [
                "## Programming Part 3: Logistic Regression\n",
                "\n",
                "Write a programme that can classify a digitized image of a fine needle aspirate (FNA) of a breast mass and determine whether the diagnosis is mailgnant or benign.\n",
                "\n",
                "\n",
                "### Assessment task:\n",
                "\n",
                "Write code to produce classification graphs and determine the accurary. There are 14 steps involved, you will complete the code for steps 3, 4, 5, 6, 7, 8, 10, 11 and 12 only.\n",
                "\n",
                "### Marks:\n",
                "\n",
                "This part is of 6 Marks. \n",
                "\n",
                "### Instructions:\n",
                "\n",
                "1. Write your Python code in place of \"your code here\" placeholder below.\n",
                "2. Run your code by clicking on 'run' cell in the toolbar before you submit.\n",
                "3. You will get the feedback once you submit the assignment.\n",
                "\n",
                "### Submission:\n",
                "\n",
                "Click on the submit button on the top right after you run the code."
            ]
        },
        {
            "cell_type": "markdown",
            "metadata": {},
            "source": [
                "#### Step 1\n",
                "Import the libraries."
            ]
        },
        {
            "cell_type": "code",
            "execution_count": null,
            "metadata": {
                "collapsed": true
            },
            "outputs": [],
            "source": [
                "from random import seed\n",
                "from random import randrange\n",
                "from csv import reader\n",
                "from math import exp\n",
                "from csv import reader"
            ]
        },
        {
            "cell_type": "markdown",
            "metadata": {},
            "source": [
                "#### Step 2\n",
                "Import extra libraries, only needed for displaying the classification graph"
            ]
        },
        {
            "cell_type": "code",
            "execution_count": null,
            "metadata": {
                "collapsed": true
            },
            "outputs": [],
            "source": [
                "import numpy as np\n",
                "import matplotlib.pyplot as plt\n",
                "from numpy.lib.arraysetops import unique"
            ]
        },
        {
            "cell_type": "markdown",
            "metadata": {},
            "source": [
                "#### Step 3\n",
                "Load a CSV file"
            ]
        },
        {
            "cell_type": "code",
            "execution_count": null,
            "metadata": {
                "collapsed": true
            },
            "outputs": [],
            "source": [
                "def load_csv(filename, skip = False):\n",
                "\n",
                "    dataset = list()\n",
                "    # Opens the file in read only mode\n",
                "    \n",
                "     \n",
                "    with open(filename, 'r') as file:\n",
                "        csv_reader = reader(file)\n",
                "        \n",
                "        # Skip the header, if needed\n",
                "        if skip:\n",
                "            next(csv_reader, None)\n",
                "        \n",
                "        for row in csv_reader:\n",
                "            if not row:\n",
                "                continue\n",
                "            new_row = []\n",
                "            for i in row:\n",
                "                try:\n",
                "                    new_row.append(float(i))\n",
                "                except ValueError:\n",
                "                    new_row.append(i)\n",
                "            dataset.append(new_row)\n",
                "    \n",
                "    return dataset\n"
            ]
        },
        {
            "cell_type": "markdown",
            "metadata": {},
            "source": [
                "#### Step 4\n",
                "Convert string diagnosis to number\n",
                "\n",
                "Assign the diagnosis of mailgnant (M) to 0 and assign the diagnosis of benign (B) to 1"
            ]
        },
        {
            "cell_type": "code",
            "execution_count": null,
            "metadata": {
                "collapsed": true
            },
            "outputs": [],
            "source": [
                "def diagnosis_column_to_number(dataset, column):\n",
                "    unique_labels = set(row[column] for row in dataset)\n",
                "    lookup = {}\n",
                "    for i, label in enumerate(unique_labels):\n",
                "        lookup[label] = i\n",
                "    for row in dataset:\n",
                "        row[column] = lookup[row[column]]"
            ]
        },
        {
            "cell_type": "markdown",
            "metadata": {},
            "source": [
                "#### Step 5\n",
                "Extract only the x data"
            ]
        },
        {
            "cell_type": "code",
            "execution_count": null,
            "metadata": {
                "collapsed": true
            },
            "outputs": [],
            "source": [
                "def extract_only_x_data(dataset):\n",
                "    data = [row[:-1] for row in dataset]\n",
                "    return data"
            ]
        },
        {
            "cell_type": "markdown",
            "metadata": {},
            "source": [
                "#### Step 6\n",
                "Extract only the y data"
            ]
        },
        {
            "cell_type": "code",
            "execution_count": null,
            "metadata": {
                "collapsed": true
            },
            "outputs": [],
            "source": [
                "def extract_only_y_data(dataset):\n",
                "    data = [row[-1] for row in dataset]  # Assuming the last column is the label\n",
                "    return data"
            ]
        },
        {
            "cell_type": "markdown",
            "metadata": {},
            "source": [
                "#### Step 7\n",
                "Define sigmoid function"
            ]
        },
        {
            "cell_type": "code",
            "execution_count": null,
            "metadata": {
                "collapsed": true
            },
            "outputs": [],
            "source": [
                "def sigmoid(z):\n",
                "    return 1 / (1 + np.exp(-z))"
            ]
        },
        {
            "cell_type": "markdown",
            "metadata": {},
            "source": [
                "#### Step 8\n",
                "Define loss function"
            ]
        },
        {
            "cell_type": "code",
            "execution_count": null,
            "metadata": {
                "collapsed": true
            },
            "outputs": [],
            "source": [
                "def loss(y, y_hat):\n",
                "    m = len(y)\n",
                "    return -1/m * np.sum(y * np.log(y_hat) + (1 - y) * np.log(1 - y_hat))"
            ]
        },
        {
            "cell_type": "markdown",
            "metadata": {},
            "source": [
                "#### Step 9\n",
                "Define gradients function"
            ]
        },
        {
            "cell_type": "code",
            "execution_count": null,
            "metadata": {
                "collapsed": true
            },
            "outputs": [],
            "source": [
                "def gradients(X, y, y_hat):\n",
                "    \n",
                "    # X Input.\n",
                "    # y true/target value.\n",
                "    # y_hat predictions.\n",
                "    # w weights.\n",
                "    # b bias.\n",
                "    \n",
                "    # number of training examples.\n",
                "    numner_of_examples = X.shape[0]\n",
                "    \n",
                "    # Gradient of loss weights.\n",
                "    dw = (1/numner_of_examples)*np.dot(X.T, (y_hat - y))\n",
                "    \n",
                "    # Gradient of loss bias.\n",
                "    db = (1/numner_of_examples)*np.sum((y_hat - y)) \n",
                "    \n",
                "    return dw, db"
            ]
        },
        {
            "cell_type": "markdown",
            "metadata": {},
            "source": [
                "#### Step 10\n",
                "Train the dataset"
            ]
        },
        {
            "cell_type": "code",
            "execution_count": null,
            "metadata": {
                "collapsed": true
            },
            "outputs": [],
            "source": [
                "def train(X, y, batch_size, epochs, learning_rate):\n",
                "    \n",
                "    # X Input.\n",
                "    # y true/target value.\n",
                "    # batch_size Batch Size.\n",
                "    # epochs Number of iterations.\n",
                "    # learning_rate Learning rate.\n",
                "        \n",
                "    # number of training examples\n",
                "    # number of features \n",
                "    numner_of_examples, numner_of_features = X.shape\n",
                "    \n",
                "    # Initializing weights and bias to zeros.\n",
                "    weights = np.zeros((numner_of_features,1))\n",
                "    bias = 0\n",
                "    \n",
                "    # Reshaping y.\n",
                "    y = y.reshape(numner_of_examples,1)\n",
                "    \n",
                "    # Empty list to store losses.\n",
                "    losses = []\n",
                "    \n",
                "    # Training loop.\n",
                "    for epoch in range(epochs):\n",
                "        for i in range((numner_of_examples-1)//batch_size + 1):\n",
                "            \n",
                "            # Defining batches. SGD.\n",
                "            start_i = i * batch_size\n",
                "            end_i = start_i + batch_size\n",
                "            xb = X[start_i:end_i]\n",
                "            yb = y[start_i:end_i]\n",
                "            \n",
                "            # Calculating hypothesis/prediction.\n",
                "            y_hat = sigmoid(np.dot(xb, weights) + bias)\n",
                "            print(y_hat)\n",
                "            \n",
                "            # Getting the gradients of loss w.r.t parameters.\n",
                "            dw, db = gradients(xb, yb, y_hat)\n",
                "            \n",
                "            # Updating the parameters.\n",
                "            ###\n",
                "            ### YOUR CODE HERE\n",
                "            ###\n",
                "            \n",
                "            weights -= learning_rate * dw\n",
                "            bias -= learning_rate * db\n",
                "        \n",
                "        # Calculating loss and appending it in the list.\n",
                "        l = loss(y, sigmoid(np.dot(X, weights) + bias))\n",
                "        losses.append(l)\n",
                "        \n",
                "    # returning weights, bias and losses(List).\n",
                "    return weights, bias, losses"
            ]
        },
        {
            "cell_type": "markdown",
            "metadata": {},
            "source": [
                "#### Step 11\n",
                "Make the prediction"
            ]
        },
        {
            "cell_type": "code",
            "execution_count": null,
            "metadata": {
                "collapsed": true
            },
            "outputs": [],
            "source": [
                "def predict(X, w, b):\n",
                "    preds = sigmoid(np.dot(X, w) + b)\n",
                "    pred_class = [1 if i >= 0.5 else 0 for i in preds]\n",
                "    return np.array(pred_class)\n"
            ]
        },
        {
            "cell_type": "markdown",
            "metadata": {},
            "source": [
                "#### Step 12\n",
                "Obtain the accuracy"
            ]
        },
        {
            "cell_type": "code",
            "execution_count": null,
            "metadata": {
                "collapsed": true
            },
            "outputs": [],
            "source": [
                "def accuracy(y, y_hat):\n",
                "    correct = 0\n",
                "    total = len(y)\n",
                "    for actual, pred in zip(y, y_hat):\n",
                "        if actual == pred:\n",
                "            correct += 1\n",
                "    return correct / total\n"
            ]
        },
        {
            "cell_type": "markdown",
            "metadata": {},
            "source": [
                "#### Step 13\n",
                "Output the plot"
            ]
        },
        {
            "cell_type": "code",
            "execution_count": null,
            "metadata": {
                "collapsed": true
            },
            "outputs": [],
            "source": [
                "def plot_decision_boundary(X, w, b):\n",
                "    \n",
                "    # X Inputs\n",
                "    # w weights\n",
                "    # b bias\n",
                "    \n",
                "    fig = plt.figure(figsize=(10,8))\n",
                "    plt.plot(X[:, 0][y==0], X[:, 1][y==0], \"g^\")\n",
                "    plt.plot(X[:, 0][y==1], X[:, 1][y==1], \"bs\")\n",
                "    plt.xlim([-2, 2])\n",
                "    plt.ylim([0, 2.2])\n",
                "    plt.xlabel(\"feature 1\")\n",
                "    plt.ylabel(\"feature 2\")\n",
                "    plt.title('Decision Boundary')\n",
                "    \n",
                "    # The Line is y=mx+c\n",
                "    # So, Equate mx+c = w.X + b\n",
                "    # Solving we find m and c\n",
                "    x1 = [min(X[:,0]), max(X[:,0])]\n",
                "    \n",
                "    if(w[1] != 0):\n",
                "        m = -w[0]/w[1]\n",
                "        c = -b/w[1]\n",
                "        x2 = m*x1 + c\n",
                "        plt.plot(x1, x2, 'y-')\n",
                "    \n",
                "    plt.show()"
            ]
        },
        {
            "cell_type": "markdown",
            "metadata": {},
            "source": [
                "#### Step 14\n",
                "Evaluate algorithm"
            ]
        },
        {
            "cell_type": "code",
            "execution_count": null,
            "metadata": {
                "collapsed": true
            },
            "outputs": [],
            "source": [
                "filename = 'breast_cancer_data.csv'\n",
                "dataset = load_csv(filename, skip=True)\n",
                "\n",
                "diagnosis_column_to_number(dataset, 2)\n",
                "\n",
                "X_train_data = extract_only_x_data(dataset)\n",
                "y_train_data = extract_only_y_data(dataset)\n",
                "\n",
                "X = np.array(X_train_data)\n",
                "y = np.array(y_train_data)\n",
                "\n",
                "\n",
                "# Training \n",
                "w, b, l = train(X, y, batch_size=100, epochs=1000, learning_rate=0.01)\n",
                "# Plotting Decision Boundary\n",
                "plot_decision_boundary(X, w, b)\n",
                "\n",
                "accuracy(y, y_hat=predict(X, w, b))"
            ]
        },
        {
            "cell_type": "code",
            "execution_count": null,
            "metadata": {
                "collapsed": true,
                "deletable": false,
                "editable": false,
                "nbgrader": {
                    "grade": true,
                    "grade_id": "Part 3.1",
                    "locked": true,
                    "points": "3",
                    "solution": false
                }
            },
            "outputs": [],
            "source": [
                "###\n",
                "### AUTOGRADER TEST - DO NOT REMOVE\n",
                "###\n"
            ]
        },
        {
            "cell_type": "code",
            "execution_count": null,
            "metadata": {
                "collapsed": true,
                "deletable": false,
                "editable": false,
                "nbgrader": {
                    "grade": true,
                    "grade_id": "Part 3.2",
                    "locked": true,
                    "points": "3",
                    "solution": false
                }
            },
            "outputs": [],
            "source": [
                "###\n",
                "### AUTOGRADER TEST - DO NOT REMOVE\n",
                "###\n"
            ]
        },
        {
            "cell_type": "markdown",
            "metadata": {},
            "source": [
                "## Programming Part 4: Regularisation\n",
                "\n",
                "Write a programme that potentially improves the previous linear regression using regularisation.\n",
                "\n",
                "\n",
                "### Assessment task:\n",
                "\n",
                "Write code to improve the previous linear regression using a elastic net regularisation. There are 12 steps involved, you will complete the code for steps 2, 4, 5, 6 and 7 only.\n",
                "\n",
                "### Marks:\n",
                "\n",
                "This part is of 6 Marks.\n",
                "\n",
                "### Instructions:\n",
                "\n",
                "1. Write your Python code in place of \"your code here\" placeholder below.\n",
                "2. Run your code by clicking on 'run' cell in the toolbar before you submit.\n",
                "3. You will get the feedback once you submit the assignment.\n",
                "\n",
                "### Submission:\n",
                "\n",
                "Click on the submit button on the top right after you run the code."
            ]
        },
        {
            "cell_type": "markdown",
            "metadata": {
                "deletable": false,
                "editable": false,
                "nbgrader": {
                    "grade": false,
                    "locked": true,
                    "solution": false
                }
            },
            "source": [
                "#### Step 1\n",
                "\n",
                "Import the needed libraries."
            ]
        },
        {
            "cell_type": "code",
            "execution_count": 126,
            "metadata": {
                "collapsed": true
            },
            "outputs": [],
            "source": [
                "from math import sqrt\n",
                "from matplotlib import pyplot as plot\n",
                "from random import seed\n",
                "from random import randrange\n",
                "from csv import reader\n",
                "import numpy as np"
            ]
        },
        {
            "cell_type": "markdown",
            "metadata": {
                "deletable": false,
                "editable": false,
                "nbgrader": {
                    "grade": false,
                    "locked": true,
                    "solution": false
                }
            },
            "source": [
                "#### Step 2\n",
                "\n",
                "Load a CSV file"
            ]
        },
        {
            "cell_type": "code",
            "execution_count": 127,
            "metadata": {
                "collapsed": true
            },
            "outputs": [],
            "source": [
                "def load_csv(filename, skip = False):\n",
                "\n",
                "    dataset = list()\n",
                "    \n",
                "    # Opens the file in read only mode\n",
                "    with open(filename, 'r') as file:\n",
                "        csv_reader = reader(file)\n",
                "        \n",
                "        # Skip the header, if needed\n",
                "        if skip:\n",
                "            next(csv_reader, None)\n",
                "        \n",
                "        for row in csv_reader:\n",
                "            if not row:\n",
                "                continue\n",
                "            dataset.append(row)\n",
                "    \n",
                "    return dataset\n",
                "# After loading the dataset\n",
                "\n"
            ]
        },
        {
            "cell_type": "markdown",
            "metadata": {
                "deletable": false,
                "editable": false,
                "nbgrader": {
                    "grade": false,
                    "locked": true,
                    "solution": false
                }
            },
            "source": [
                "#### Step 3\n",
                "\n",
                "Convert string column to float"
            ]
        },
        {
            "cell_type": "code",
            "execution_count": 128,
            "metadata": {
                "collapsed": true
            },
            "outputs": [],
            "source": [
                "def string_column_to_float(dataset, column):\n",
                "    for row in dataset:\n",
                "        # The strip() function remove white space\n",
                "        # then convert the data into a decimal number (float)\n",
                "        # and overwrite the original data\n",
                "        row[column] = float(row[column].strip())"
            ]
        },
        {
            "cell_type": "markdown",
            "metadata": {
                "deletable": false,
                "editable": false,
                "nbgrader": {
                    "grade": false,
                    "locked": true,
                    "solution": false
                }
            },
            "source": [
                "#### Step 4\n",
                "\n",
                "Make Prediction"
            ]
        },
        {
            "cell_type": "code",
            "execution_count": 129,
            "metadata": {
                "collapsed": true
            },
            "outputs": [],
            "source": [
                "def predict(X, b, W) :\n",
                "    prediction = b + np.dot(X, W)\n",
                "    return prediction"
            ]
        },
        {
            "cell_type": "markdown",
            "metadata": {
                "deletable": false,
                "editable": false,
                "nbgrader": {
                    "grade": false,
                    "locked": true,
                    "solution": false
                }
            },
            "source": [
                "#### Step 5\n",
                "\n",
                "Update the weights with the gradients and L2 penality"
            ]
        },
        {
            "cell_type": "code",
            "execution_count": 130,
            "metadata": {
                "collapsed": true
            },
            "outputs": [],
            "source": [
                "def update_weights(X, Y, b, W, no_of_training_examples, learning_rate, l2_penalty):\n",
                "    \n",
                "    Y_pred = predict(X, b, W)\n",
                "    loss = Y_pred - Y\n",
                "    gradient_W = 2 * np.dot(X.T, loss) + 2 * l2_penalty * W\n",
                "    gradient_b = 2 * np.sum(loss)\n",
                "    W -= learning_rate * gradient_W / no_of_training_examples\n",
                "    b -= learning_rate * gradient_b / no_of_training_examples\n",
                "    return b, W"
            ]
        },
        {
            "cell_type": "markdown",
            "metadata": {},
            "source": [
                "#### Step 6\n",
                "\n",
                "Linear Regression with L2 (Ridge) Regularisation"
            ]
        },
        {
            "cell_type": "code",
            "execution_count": 131,
            "metadata": {
                "collapsed": true
            },
            "outputs": [],
            "source": [
                "def ridge_regression(X, Y, iterations = 1000, learning_rate = 0.01, l2_penalty = 1):\n",
                "###\n",
                "### YOUR CODE HERE\n",
                "###\n",
                "    b = 0\n",
                "    W = np.array([0.0])\n",
                "    for _ in range(iterations):\n",
                "        b, W = update_weights(X, Y, b, W, len(X), learning_rate, l2_penalty)\n",
                "    \n",
                "    return b, W"
            ]
        },
        {
            "cell_type": "markdown",
            "metadata": {},
            "source": [
                "#### Step 7\n",
                "\n",
                "Split the data into training and test sets"
            ]
        },
        {
            "cell_type": "code",
            "execution_count": 132,
            "metadata": {
                "collapsed": true
            },
            "outputs": [],
            "source": [
                "def train_test_split(dataset, split):\n",
                "    \n",
                "    train = list()\n",
                "    test = list(dataset)\n",
                "    train_size = int(split * len(dataset))\n",
                "\n",
                "    while len(train) < train_size:\n",
                "        index = randrange(len(test))\n",
                "        train.append(test.pop(index))\n",
                "\n",
                "    X_train = np.array([row[:-1] for row in train])\n",
                "    y_train = np.array([row[-1] for row in train])\n",
                "    X_test = np.array([row[:-1] for row in test])\n",
                "    y_test = np.array([row[-1] for row in test])\n",
                "\n",
                "    return X_train, y_train, X_test, y_test"
            ]
        },
        {
            "cell_type": "markdown",
            "metadata": {},
            "source": [
                "#### Step 8\n",
                "\n",
                "Perform regression algorithm on dataset"
            ]
        },
        {
            "cell_type": "code",
            "execution_count": 133,
            "metadata": {
                "collapsed": true
            },
            "outputs": [],
            "source": [
                "def evaluate_ridge_regression(dataset, split):\n",
                "    \n",
                "    # Spilt the data in training and test sets\n",
                "    # And split further in X_train, Y_train, X_test, Y_test    \n",
                "\n",
                "    X_train, Y_train, X_test, Y_test = train_test_split(dataset, split)\n",
                "    print(\"First few rows of X_train:\", X_train[:5])\n",
                "    print(\"First few rows of Y_train:\", Y_train[:5])\n",
                "    print(\"First few rows of X_test:\", X_test[:5])\n",
                "    print(\"First few rows of Y_test:\", Y_test[:5])\n",
                "\n",
                "    # Train the model\n",
                "        \n",
                "    b, W = ridge_regression(X_train, Y_train, iterations = 10000, l2_penalty = 0.001)\n",
                "    \n",
                "    # Make a prediction with the model\n",
                "    \n",
                "    yhat = predict(X_test, b, W)\n",
                "    \n",
                "    print(W)\n",
                "        \n",
                "    print( \"Predicted values \", np.round( yhat[:3], 2 ) )\n",
                "    print( \"Real values      \", Y_test[:3] ) \n",
                "    print( \"Trained W        \", round( W[0], 2 ) )    \n",
                "    print( \"Trained b        \", round( b, 2 ) )\n",
                "    \n",
                "    visualise(X_test, Y_test, yhat)"
            ]
        },
        {
            "cell_type": "markdown",
            "metadata": {},
            "source": [
                "#### Step 9\n",
                "\n",
                "Visualise the results"
            ]
        },
        {
            "cell_type": "code",
            "execution_count": 134,
            "metadata": {
                "collapsed": true
            },
            "outputs": [],
            "source": [
                "def visualise(X_test, Y_test, yhat):\n",
                "    plot.scatter( X_test, Y_test, color = 'blue' )    \n",
                "    plot.plot( X_test, yhat, color = 'orange' )    \n",
                "    plot.title( 'Fertility Rate vs Worker Percentage' )    \n",
                "    plot.xlabel('Fertility Rate')\n",
                "    plot.ylabel('Worker Percentage')\n",
                "    plot.show()"
            ]
        },
        {
            "cell_type": "markdown",
            "metadata": {},
            "source": [
                "#### Step 10\n",
                "\n",
                "Seed the random value"
            ]
        },
        {
            "cell_type": "code",
            "execution_count": 135,
            "metadata": {
                "collapsed": true
            },
            "outputs": [],
            "source": [
                "seed(1)"
            ]
        },
        {
            "cell_type": "markdown",
            "metadata": {},
            "source": [
                "#### Step 11\n",
                "\n",
                "Load and prepare data"
            ]
        },
        {
            "cell_type": "code",
            "execution_count": 136,
            "metadata": {
                "collapsed": true
            },
            "outputs": [],
            "source": [
                "filename = 'fertility_rate-worker_percent.csv'\n",
                "dataset = load_csv(filename, skip=True)\n",
                "\n",
                "for i in range(len(dataset[0])):\n",
                "    string_column_to_float(dataset, i)"
            ]
        },
        {
            "cell_type": "markdown",
            "metadata": {},
            "source": [
                "#### Step 12\n",
                "\n",
                "Evaluate regression algorithm on training dataset"
            ]
        },
        {
            "cell_type": "code",
            "execution_count": 137,
            "metadata": {
                "collapsed": true
            },
            "outputs": [
                {
                    "name": "stdout",
                    "output_type": "stream",
                    "text": [
                        "First few rows of X_train: [[3.27]\n",
                        " [2.15]\n",
                        " [3.48]\n",
                        " [2.69]\n",
                        " [3.17]]\n",
                        "First few rows of Y_train: [30.17 39.38 29.18 32.5  30.66]\n",
                        "First few rows of X_test: [[3.37]\n",
                        " [2.97]\n",
                        " [2.88]\n",
                        " [2.6 ]\n",
                        " [2.52]]\n",
                        "First few rows of Y_test: [29.67 31.4  31.77 32.74 33.5 ]\n",
                        "[-8.01564441]\n",
                        "Predicted values  [29.41 32.62 33.34]\n",
                        "Real values       [29.67 31.4  31.77]\n",
                        "Trained W         -8.02\n",
                        "Trained b         56.42\n"
                    ]
                },
                {
                    "data": {
                        "image/png": "[encoded data removed]",
                        "text/plain": [
                            "<Figure size 640x480 with 1 Axes>"
                        ]
                    },
                    "metadata": {},
                    "output_type": "display_data"
                }
            ],
            "source": [
                "split = 0.66\n",
                "\n",
                "evaluate_ridge_regression(dataset, split)"
            ]
        },
        {
            "cell_type": "code",
            "execution_count": null,
            "metadata": {
                "collapsed": true,
                "deletable": false,
                "editable": false,
                "nbgrader": {
                    "grade": true,
                    "grade_id": "Part 4.1",
                    "locked": true,
                    "points": "0.5",
                    "solution": false
                }
            },
            "outputs": [],
            "source": [
                "###\n",
                "### AUTOGRADER TEST - DO NOT REMOVE\n",
                "###\n"
            ]
        },
        {
            "cell_type": "code",
            "execution_count": null,
            "metadata": {
                "collapsed": true,
                "deletable": false,
                "editable": false,
                "nbgrader": {
                    "grade": true,
                    "grade_id": "Part 4.2",
                    "locked": true,
                    "points": "0.5",
                    "solution": false
                }
            },
            "outputs": [],
            "source": [
                "###\n",
                "### AUTOGRADER TEST - DO NOT REMOVE\n",
                "###\n"
            ]
        },
        {
            "cell_type": "code",
            "execution_count": null,
            "metadata": {
                "collapsed": true,
                "deletable": false,
                "editable": false,
                "nbgrader": {
                    "grade": true,
                    "grade_id": "Part 4.3",
                    "locked": true,
                    "points": "0.5",
                    "solution": false
                }
            },
            "outputs": [],
            "source": [
                "###\n",
                "### AUTOGRADER TEST - DO NOT REMOVE\n",
                "###\n"
            ]
        },
        {
            "cell_type": "code",
            "execution_count": null,
            "metadata": {
                "collapsed": true,
                "deletable": false,
                "editable": false,
                "nbgrader": {
                    "grade": true,
                    "grade_id": "Part 4.4",
                    "locked": true,
                    "points": "0.5",
                    "solution": false
                }
            },
            "outputs": [],
            "source": [
                "###\n",
                "### AUTOGRADER TEST - DO NOT REMOVE\n",
                "###\n"
            ]
        },
        {
            "cell_type": "code",
            "execution_count": null,
            "metadata": {
                "collapsed": true,
                "deletable": false,
                "editable": false,
                "nbgrader": {
                    "grade": true,
                    "grade_id": "Part 4.5",
                    "locked": true,
                    "points": "4",
                    "solution": false
                }
            },
            "outputs": [],
            "source": [
                "###\n",
                "### AUTOGRADER TEST - DO NOT REMOVE\n",
                "###\n"
            ]
        },
        {
            "cell_type": "markdown",
            "metadata": {},
            "source": [
                "## Programming Part 5: Artificial Neural Network\n",
                "\n",
                "Write a programme that can classify two different type of data points with high accuracy.\n",
                "\n",
                "\n",
                "### Assessment task:\n",
                "\n",
                "Write code to develop artificial neural network using the moons dataset. There are 20 steps involved, you will complete the code for steps 2, 3, 4, 5, 9, 10, 11, 12, 13 and 16 only.\n",
                "\n",
                "### Marks:\n",
                "\n",
                "This part is of 6 Marks. \n",
                "\n",
                "### Instructions:\n",
                "\n",
                "1. Write your Python code in place of \"your code here\" placeholder below.\n",
                "2. Run your code by clicking on 'run' cell in the toolbar before you submit.\n",
                "3. You will get the feedback once you submit the assignment.\n",
                "\n",
                "### Submission:\n",
                "\n",
                "Click on the submit button on the top right after you run the code."
            ]
        },
        {
            "cell_type": "markdown",
            "metadata": {},
            "source": [
                "#### Step 1\n",
                "Import the libraries"
            ]
        },
        {
            "cell_type": "code",
            "execution_count": null,
            "metadata": {
                "collapsed": true
            },
            "outputs": [],
            "source": [
                "import numpy as np\n",
                "import matplotlib.pyplot as plt\n",
                "from csv import reader"
            ]
        },
        {
            "cell_type": "markdown",
            "metadata": {},
            "source": [
                "#### Step 2\n",
                "Load a CSV file"
            ]
        },
        {
            "cell_type": "code",
            "execution_count": null,
            "metadata": {
                "collapsed": true
            },
            "outputs": [],
            "source": [
                "def load_csv(filename, skip = False):\n",
                "\n",
                "    dataset = list()\n",
                "    \n",
                "    # Opens the file in read only mode\n",
                "    with open(filename, 'r') as file:\n",
                "        csv_reader = reader(file)\n",
                "        \n",
                "        # Skip the header, if needed\n",
                "        if skip:\n",
                "            next(csv_reader, None)\n",
                "        \n",
                "        for row in csv_reader:\n",
                "            if not row:\n",
                "                continue\n",
                "            dataset.append(row)\n",
                "    \n",
                "    return dataset"
            ]
        },
        {
            "cell_type": "markdown",
            "metadata": {},
            "source": [
                "#### Step 3\n",
                "extract only x data"
            ]
        },
        {
            "cell_type": "code",
            "execution_count": null,
            "metadata": {
                "collapsed": true
            },
            "outputs": [],
            "source": [
                "def extract_only_x_data(dataset):\n",
                "###\n",
                "### YOUR CODE HERE\n",
                "###\n",
                "    return np.array([[float(row[0]), float(row[1])] for row in dataset])"
            ]
        },
        {
            "cell_type": "markdown",
            "metadata": {},
            "source": [
                "#### Step 4\n",
                "extract only y data"
            ]
        },
        {
            "cell_type": "code",
            "execution_count": null,
            "metadata": {
                "collapsed": true
            },
            "outputs": [],
            "source": [
                "def extract_only_y_data(dataset):\n",
                "###\n",
                "### YOUR CODE HERE\n",
                "###\n",
                "    return np.array([int(row[2]) for row in dataset])"
            ]
        },
        {
            "cell_type": "markdown",
            "metadata": {},
            "source": [
                "#### Step 5\n",
                "Defining the Config that contains the inputs for the network, the outputs for the network as well as the parameters for gradient descent "
            ]
        },
        {
            "cell_type": "code",
            "execution_count": null,
            "metadata": {
                "collapsed": true
            },
            "outputs": [],
            "source": [
                "class Config:\n",
                "    #Specify input layer dimensionality,  output layer dimensionality, learning rate for gradient descent, regularization strength\n",
                "    \n",
                "    input_dim = 2  # Number of input features\n",
                "    output_dim = 2  # Number of classes for the output\n",
                "    hidden_layer_dim = 3  # Number of nodes in the hidden layer\n",
                "    learning_rate = 0.01  # Learning rate for gradient descent\n",
                "    regularization_strength = 0.01  # Regularisation strength\n",
                "\n"
            ]
        },
        {
            "cell_type": "markdown",
            "metadata": {},
            "source": [
                "#### Step 6\n",
                "Load the moons.csv data, extract the data and convert it into num py arrays"
            ]
        },
        {
            "cell_type": "code",
            "execution_count": null,
            "metadata": {
                "collapsed": true
            },
            "outputs": [],
            "source": [
                "def generate_data():\n",
                "    filename = 'moons.csv'\n",
                "\n",
                "    dataset = load_csv(filename)                            # load the data from a csv file\n",
                "\n",
                "    x_data = extract_only_x_data(dataset)                   # extract the input data (2 inputs)\n",
                "    y_data = extract_only_y_data(dataset)                   # extract the output data (1 output)\n",
                "    \n",
                "    X = np.array(x_data)                                    # convert the data into np array\n",
                "    y = np.array(y_data)                                    # convert the data into np array\n",
                "\n",
                "    return X, y                                             # returns both input (X) data and output (y) data"
            ]
        },
        {
            "cell_type": "markdown",
            "metadata": {},
            "source": [
                "#### Step 7\n",
                "Assign the X and y with the generated data"
            ]
        },
        {
            "cell_type": "code",
            "execution_count": null,
            "metadata": {
                "collapsed": true
            },
            "outputs": [],
            "source": [
                "X, y = generate_data()"
            ]
        },
        {
            "cell_type": "markdown",
            "metadata": {},
            "source": [
                "#### Step 8\n",
                "Draw the scatter plot"
            ]
        },
        {
            "cell_type": "code",
            "execution_count": null,
            "metadata": {
                "collapsed": true
            },
            "outputs": [],
            "source": [
                "plt.figure(figsize=(10,7))                              # Defines the size of the plot\n",
                "plt.scatter(X[:,0], X[:,1], c=y, cmap=plt.cm.Spectral)  # Draws a scatter plot"
            ]
        },
        {
            "cell_type": "markdown",
            "metadata": {},
            "source": [
                "#### Step 9\n",
                "Define a activation function of your choice."
            ]
        },
        {
            "cell_type": "code",
            "execution_count": null,
            "metadata": {
                "collapsed": true
            },
            "outputs": [],
            "source": [
                "def activation_function(x):\n",
                "###\n",
                "### YOUR CODE HERE\n",
                "###\n",
                "    # Return the value of the implemented activation function, do not simply return x\n",
                "    return 1 / (1 + np.exp(-x))"
            ]
        },
        {
            "cell_type": "markdown",
            "metadata": {},
            "source": [
                "#### Step 10\n",
                "Define a lost function"
            ]
        },
        {
            "cell_type": "code",
            "execution_count": null,
            "metadata": {
                "collapsed": true
            },
            "outputs": [],
            "source": [
                "def loss(a):\n",
                "###\n",
                "### YOUR CODE HERE\n",
                "###\n",
                "    # Return the value of the implemented loss function, do not simply return a\n",
                "    return -np.log(a)"
            ]
        },
        {
            "cell_type": "markdown",
            "metadata": {},
            "source": [
                "#### Step 11\n",
                "Define a weight regularization function"
            ]
        },
        {
            "cell_type": "code",
            "execution_count": null,
            "metadata": {
                "collapsed": true
            },
            "outputs": [],
            "source": [
                "def weight_regularization(Wx, dWx):\n",
                "###\n",
                "### YOUR CODE HERE\n",
                "###\n",
                "    # Return the value of the implemented weight regularization function, do not simply return dWx\n",
                "    return dWx + Config.regularization_strength * Wx"
            ]
        },
        {
            "cell_type": "markdown",
            "metadata": {},
            "source": [
                "#### Step 12\n",
                "Define forward propagation function"
            ]
        },
        {
            "cell_type": "code",
            "execution_count": null,
            "metadata": {
                "collapsed": true
            },
            "outputs": [],
            "source": [
                "def forward_propagation(X, W1, b1, W2, b2):\n",
                "\n",
                "###\n",
                "### YOUR CODE HERE\n",
                "###\n",
                "    \n",
                "    # Layer 1 (Hidden layer)\n",
                "    z1 = np.dot(X, W1) + b1\n",
                "    a1 = activation_function(z1)\n",
                "    \n",
                "    # Layer 2 (Output layer)\n",
                "    z2 = np.dot(a1, W2) + b2\n",
                "    \n",
                "    # Softmax to get probabilities\n",
                "    exp_scores = np.exp(z2)\n",
                "    \n",
                "    return exp_scores"
            ]
        },
        {
            "cell_type": "markdown",
            "metadata": {},
            "source": [
                "#### Step 13\n",
                "Define backward propagation function"
            ]
        },
        {
            "cell_type": "code",
            "execution_count": null,
            "metadata": {
                "collapsed": true
            },
            "outputs": [],
            "source": [
                "def backward_propagation(X, y, W1, b1, W2, b2, exp_scores, number_of_examples):\n",
                "    probs = exp_scores / np.sum(exp_scores, axis=1, keepdims=True)\n",
                "        \n",
                "    delta3 = probs\n",
                "    delta3[range(number_of_examples), y] -= 1\n",
                "\n",
                "    z2 = np.dot(X, W1) + b1\n",
                "    a1 = np.tanh(z2)\n",
                "\n",
                "    dW2 = (a1.T).dot(delta3)\n",
                "    db2 = np.sum(delta3, axis=0, keepdims=True)\n",
                "\n",
                "    delta2 = delta3.dot(W2.T) * (1 - np.power(a1, 2))\n",
                "    \n",
                "    dW1 = np.dot(X.T, delta2)\n",
                "    \n",
                "    # Add regularization terms (b1 and b2 don't have regularization terms)\n",
                "    db1 = np.sum(delta2, axis=0)\n",
                "###\n",
                "### YOUR CODE HERE\n",
                "###\n",
                "    # Apply regularization to the gradients for the weights\n",
                "    dW1 = weight_regularization(W1, dW1)\n",
                "    dW2 = weight_regularization(W2, dW2)\n",
                "    \n",
                "    return dW1, dW2, db1, db2"
            ]
        },
        {
            "cell_type": "markdown",
            "metadata": {},
            "source": [
                "#### Step 14\n",
                "Define the loss function, used to evaluate how well the model is doing"
            ]
        },
        {
            "cell_type": "code",
            "execution_count": null,
            "metadata": {
                "collapsed": true
            },
            "outputs": [],
            "source": [
                "def calculate_loss(model, X, y):\n",
                "   \n",
                "    number_of_examples = len(X)\n",
                "    \n",
                "    W1 = model['W1']\n",
                "    b1 = model['b1']\n",
                "    W2 = model['W2']\n",
                "    b2 = model['b2']\n",
                "    \n",
                "    exp_scores = forward_propagation(X, W1, b1, W2, b2)\n",
                "    \n",
                "    probs = exp_scores / np.sum(exp_scores, axis=1, keepdims=True)\n",
                "    \n",
                "    # Calculating the loss\n",
                "    \n",
                "    correct_probs = loss(probs[range(number_of_examples), y])\n",
                "    \n",
                "    data_loss = np.sum(correct_probs)\n",
                "    \n",
                "    data_loss = data_loss + Config.regularization_strength / 2 * (np.sum(np.square(W1)) + np.sum(np.square(W2)))\n",
                "    \n",
                "    return 1. / number_of_examples * data_loss"
            ]
        },
        {
            "cell_type": "markdown",
            "metadata": {},
            "source": [
                "#### Step 15\n",
                "Make a prediction"
            ]
        },
        {
            "cell_type": "code",
            "execution_count": null,
            "metadata": {
                "collapsed": true
            },
            "outputs": [],
            "source": [
                "def predict(model, X):\n",
                "    W1 = model['W1']\n",
                "    b1 = model['b1']\n",
                "    W2 = model['W2']\n",
                "    b2 = model['b2']\n",
                "    \n",
                "    exp_scores = forward_propagation(X, W1, b1, W2, b2)\n",
                "    \n",
                "    probs = exp_scores / np.sum(exp_scores, axis=1, keepdims=True)\n",
                "    \n",
                "    return np.argmax(probs, axis=1)"
            ]
        },
        {
            "cell_type": "markdown",
            "metadata": {},
            "source": [
                "#### Step 16\n",
                "Build the neural network using batch gradient descent using the backpropagation derivates"
            ]
        },
        {
            "cell_type": "code",
            "execution_count": null,
            "metadata": {
                "collapsed": true
            },
            "outputs": [],
            "source": [
                "def build_model(X, y, number_of_nodes_within_hidden_layer, passes=20000, print_loss=False):\n",
                "\n",
                "    # Initialize the parameters to random values. We need to learn these\n",
                "    \n",
                "    \n",
                "    number_of_examples = len(X)\n",
                "    np.random.seed(0)\n",
                "    \n",
                "    # Two weights are needed as the network has two inputs\n",
                "    # Likewise, two biases are needed as the network has two inputs\n",
                "\n",
                "###\n",
                "### YOUR CODE HERE\n",
                "###\n",
                "\n",
                "    # Initialize weights and biases\n",
                "    W1 = np.random.randn(Config.input_dim, number_of_nodes_within_hidden_layer) / np.sqrt(Config.input_dim)\n",
                "    b1 = np.zeros((1, number_of_nodes_within_hidden_layer))\n",
                "    W2 = np.random.randn(number_of_nodes_within_hidden_layer, Config.output_dim) / np.sqrt(number_of_nodes_within_hidden_layer)\n",
                "    b2 = np.zeros((1, Config.output_dim))\n",
                "    \n",
                "    model = {}\n",
                "    \n",
                "    for i in range(0, passes):\n",
                "        # Forward Propgation\n",
                "        exp_scores = forward_propagation(X, W1, b1, W2, b2)\n",
                "        \n",
                "        # Back Propgation\n",
                "        dW1, dW2, db1, db2 = backward_propagation(X, y, W1, b1, W2, b2, exp_scores, number_of_examples);\n",
                "        \n",
                "        # Gradient descent parameter update\n",
                "\n",
                "        ###\n",
                "        ### YOUR CODE HERE\n",
                "        ###\n",
                "        W1 += -Config.learning_rate * dW1\n",
                "        b1 += -Config.learning_rate * db1\n",
                "        W2 += -Config.learning_rate * dW2\n",
                "        b2 += -Config.learning_rate * db2\n",
                "        \n",
                "        # Assign new parameters to the model\n",
                "        \n",
                "        model = {'W1': W1, 'b1': b1, 'W2': W2, 'b2': b2}\n",
                "        \n",
                "        # This is expensive because it uses the whole dataset, so we don't want to do it too often.\n",
                "        result = calculate_loss(model, X, y)\n",
                "        \n",
                "        if print_loss and i % 1000 == 0:\n",
                "            print(\"Loss after iteration %i: %f\" % (i, result))\n",
                "            \n",
                "            if result > 2.0:\n",
                "                print(\"Loss is too high\")\n",
                "                break\n",
                "            \n",
                "    return model\n"
            ]
        },
        {
            "cell_type": "markdown",
            "metadata": {},
            "source": [
                "#### Step 17\n",
                "Train the model\n",
                "\n",
                "Note: 10,000 passes is used in the auto graders"
            ]
        },
        {
            "cell_type": "code",
            "execution_count": null,
            "metadata": {
                "collapsed": true
            },
            "outputs": [],
            "source": [
                "model = build_model(X, y, 3, print_loss=True, passes=10000)"
            ]
        },
        {
            "cell_type": "markdown",
            "metadata": {},
            "source": [
                "#### Step 18\n",
                "Plot Decision Boundary"
            ]
        },
        {
            "cell_type": "code",
            "execution_count": null,
            "metadata": {
                "collapsed": true
            },
            "outputs": [],
            "source": [
                "def plot_decision_boundary(pred_func, X, y):\n",
                "    # Set min and max values and give it some padding\n",
                "    x_min, x_max = X[:, 0].min() - .5, X[:, 0].max() + .5\n",
                "    y_min, y_max = X[:, 1].min() - .5, X[:, 1].max() + .5\n",
                "    h = 0.01\n",
                "    \n",
                "    # Generate a grid of points with distance h between them\n",
                "    xx, yy = np.meshgrid(np.arange(x_min, x_max, h), np.arange(y_min, y_max, h))\n",
                "    \n",
                "    # Predict the function value for the whole gid\n",
                "    Z = pred_func(np.c_[xx.ravel(), yy.ravel()])\n",
                "    Z = Z.reshape(xx.shape)\n",
                "    \n",
                "    # Plot the contour and training examples\n",
                "    plt.title(\"Artificial Neural Network\")\n",
                "    plt.contourf(xx, yy, Z, cmap=plt.cm.Spectral)\n",
                "    plt.scatter(X[:, 0], X[:, 1], c=y, cmap=plt.cm.Spectral)\n",
                "    plt.show()"
            ]
        },
        {
            "cell_type": "markdown",
            "metadata": {},
            "source": [
                "#### Step 19\n",
                "Visualize"
            ]
        },
        {
            "cell_type": "code",
            "execution_count": null,
            "metadata": {
                "collapsed": true
            },
            "outputs": [],
            "source": [
                "def visualize(X, y, model):\n",
                "    plot_decision_boundary(lambda x:predict(model, x), X, y)"
            ]
        },
        {
            "cell_type": "markdown",
            "metadata": {},
            "source": [
                "#### Step 20\n",
                "Call the visualize function"
            ]
        },
        {
            "cell_type": "code",
            "execution_count": null,
            "metadata": {
                "collapsed": true
            },
            "outputs": [],
            "source": [
                "try:\n",
                "    visualize(X, y, model)\n",
                "except:\n",
                "    print(\"Can not visualize the graph, the data or the model is inconsistent\")"
            ]
        },
        {
            "cell_type": "code",
            "execution_count": null,
            "metadata": {
                "collapsed": true,
                "deletable": false,
                "editable": false,
                "nbgrader": {
                    "grade": true,
                    "grade_id": "Part 5.1",
                    "locked": true,
                    "points": "1",
                    "solution": false
                }
            },
            "outputs": [],
            "source": [
                "###\n",
                "### AUTOGRADER TEST - DO NOT REMOVE\n",
                "###\n"
            ]
        },
        {
            "cell_type": "code",
            "execution_count": null,
            "metadata": {
                "collapsed": true,
                "deletable": false,
                "editable": false,
                "nbgrader": {
                    "grade": true,
                    "grade_id": "Part 5.2",
                    "locked": true,
                    "points": "2",
                    "solution": false
                }
            },
            "outputs": [],
            "source": [
                "###\n",
                "### AUTOGRADER TEST - DO NOT REMOVE\n",
                "###\n"
            ]
        },
        {
            "cell_type": "code",
            "execution_count": null,
            "metadata": {
                "collapsed": true,
                "deletable": false,
                "editable": false,
                "nbgrader": {
                    "grade": true,
                    "grade_id": "Part 5.3",
                    "locked": true,
                    "points": "3",
                    "solution": false
                }
            },
            "outputs": [],
            "source": [
                "###\n",
                "### AUTOGRADER TEST - DO NOT REMOVE\n",
                "###\n"
            ]
        },
        {
            "cell_type": "code",
            "execution_count": null,
            "metadata": {
                "collapsed": true
            },
            "outputs": [],
            "source": []
        }
    ],
    "metadata": {
        "kernelspec": {
            "display_name": "Python 3 [3.7]",
            "language": "python",
            "name": "python3"
        },
        "language_info": {
            "codemirror_mode": {
                "name": "ipython",
                "version": 3
            },
            "file_extension": ".py",
            "mimetype": "text/x-python",
            "name": "python",
            "nbconvert_exporter": "python",
            "pygments_lexer": "ipython3",
            "version": "3.8.0"
        }
    },
    "nbformat": 4,
    "nbformat_minor": 2
}
